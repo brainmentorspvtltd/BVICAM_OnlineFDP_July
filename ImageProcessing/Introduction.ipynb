{
 "cells": [
  {
   "cell_type": "code",
   "execution_count": 1,
   "metadata": {},
   "outputs": [],
   "source": [
    "import cv2"
   ]
  },
  {
   "cell_type": "code",
   "execution_count": 2,
   "metadata": {},
   "outputs": [],
   "source": [
    "img = cv2.imread('img_1.jpg')"
   ]
  },
  {
   "cell_type": "code",
   "execution_count": 3,
   "metadata": {},
   "outputs": [
    {
     "data": {
      "text/plain": [
       "numpy.ndarray"
      ]
     },
     "execution_count": 3,
     "metadata": {},
     "output_type": "execute_result"
    }
   ],
   "source": [
    "type(img)"
   ]
  },
  {
   "cell_type": "code",
   "execution_count": 4,
   "metadata": {},
   "outputs": [
    {
     "data": {
      "text/plain": [
       "(540, 960, 3)"
      ]
     },
     "execution_count": 4,
     "metadata": {},
     "output_type": "execute_result"
    }
   ],
   "source": [
    "img.shape"
   ]
  },
  {
   "cell_type": "code",
   "execution_count": 5,
   "metadata": {},
   "outputs": [],
   "source": [
    "img = cv2.imread('img_1.jpg')\n",
    "while True:\n",
    "    #cv2.rectangle(img, (x,y), (x+w,y+h), (color (b,g,r)), borderWidth)\n",
    "    cv2.rectangle(img, (300,100), (420,240), (255,0,0), 4)\n",
    "    cv2.imshow('result', img)\n",
    "    # 27 -> escape key (ASCII)\n",
    "    # 2 - delay in milliseconds\n",
    "    if cv2.waitKey(2) == 27:\n",
    "        break\n",
    "\n",
    "cv2.destroyAllWindows()"
   ]
  },
  {
   "cell_type": "code",
   "execution_count": 15,
   "metadata": {},
   "outputs": [],
   "source": [
    "import time"
   ]
  },
  {
   "cell_type": "code",
   "execution_count": 6,
   "metadata": {},
   "outputs": [],
   "source": [
    "# videos or camera"
   ]
  },
  {
   "cell_type": "code",
   "execution_count": 17,
   "metadata": {},
   "outputs": [],
   "source": [
    "capture = cv2.VideoCapture('video_1.mp4')\n",
    "#capture = cv2.VideoCapture(0)\n",
    "i = 0\n",
    "while True:\n",
    "    i += 1\n",
    "    time.sleep(1)\n",
    "    flag, img = capture.read()\n",
    "    #img = cv2.resize(img, None, fx=0.5,fy=0.5)\n",
    "    cv2.imwrite('images/img_{}.jpg'.format(i), img)\n",
    "    cv2.imshow('result', img)\n",
    "    if cv2.waitKey(2) == 27:\n",
    "        break\n",
    "\n",
    "capture.release()\n",
    "cv2.destroyAllWindows()"
   ]
  },
  {
   "cell_type": "code",
   "execution_count": null,
   "metadata": {},
   "outputs": [],
   "source": []
  }
 ],
 "metadata": {
  "kernelspec": {
   "display_name": "Python 3",
   "language": "python",
   "name": "python3"
  },
  "language_info": {
   "codemirror_mode": {
    "name": "ipython",
    "version": 3
   },
   "file_extension": ".py",
   "mimetype": "text/x-python",
   "name": "python",
   "nbconvert_exporter": "python",
   "pygments_lexer": "ipython3",
   "version": "3.7.4"
  }
 },
 "nbformat": 4,
 "nbformat_minor": 4
}
